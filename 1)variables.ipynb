{
 "cells": [
  {
   "cell_type": "code",
   "execution_count": 9,
   "id": "5b9cb0b3",
   "metadata": {},
   "outputs": [
    {
     "name": "stdout",
     "output_type": "stream",
     "text": [
      "3900.0\n",
      "3120.0\n"
     ]
    }
   ],
   "source": [
    "maasAli = 5000\n",
    "maasAhmet = 4000\n",
    "vergi = 0.22\n",
    "\n",
    "print(maasAli - (maasAli * vergi))\n",
    "print(maasAhmet - (maasAhmet * vergi))"
   ]
  },
  {
   "cell_type": "code",
   "execution_count": null,
   "id": "3c299dcc",
   "metadata": {},
   "outputs": [
    {
     "name": "stdout",
     "output_type": "stream",
     "text": [
      "50\n"
     ]
    }
   ],
   "source": [
    "# Değişken Tanımlama Kuralları\n",
    "\n",
    "# rakam ile başlayamaz\n",
    "\n",
    "number1 = 20\n",
    "number1 += 30\n",
    "print(number1)\n",
    "\n",
    "# Büyük küçük harf duyarlılığı"
   ]
  },
  {
   "cell_type": "code",
   "execution_count": null,
   "id": "1c2517e8",
   "metadata": {},
   "outputs": [],
   "source": [
    "# türkçe karakter yok\n",
    "\n",
    "x = 1             # int\n",
    "y = 2.3           # float\n",
    "name = \"Çınar\"    # string\n",
    "isStudent = True  # bool\n",
    "#x ,y ,name , isStudent = (1, 2.3, Çınar ,True)"
   ]
  },
  {
   "cell_type": "code",
   "execution_count": null,
   "id": "d4aa0ad9",
   "metadata": {},
   "outputs": [
    {
     "name": "stdout",
     "output_type": "stream",
     "text": [
      "50\n",
      "2030\n"
     ]
    }
   ],
   "source": [
    "a = 20\n",
    "b = 30\n",
    "print(a+b)\n",
    "\n",
    "a = \"20\"\n",
    "b = \"30\"\n",
    "print(a+b)"
   ]
  },
  {
   "cell_type": "code",
   "execution_count": 7,
   "id": "7f967fc8",
   "metadata": {},
   "outputs": [
    {
     "name": "stdout",
     "output_type": "stream",
     "text": [
      "Mehmet Emin Yıldız\n"
     ]
    }
   ],
   "source": [
    "firstName = \"Mehmet Emin \"\n",
    "lastName = \"Yıldız\"\n",
    "print(firstName + lastName)"
   ]
  },
  {
   "cell_type": "code",
   "execution_count": 13,
   "id": "a641599e",
   "metadata": {},
   "outputs": [
    {
     "name": "stdout",
     "output_type": "stream",
     "text": [
      "Müşterinin Adı: Ali Yılmaz\n",
      "Müşterinin Yaşı: 49\n"
     ]
    }
   ],
   "source": [
    "musteriAdi = \"Ali\"\n",
    "musteriSoyadi = \"Yılmaz\"\n",
    "musteriAdSoyad = musteriAdi + \" \" + musteriSoyadi\n",
    "print(\"Müşterinin Adı:\",musteriAdSoyad)\n",
    "musteriCinsiyet = True # Erkek\n",
    "musteriTcKimlik = \"43254637354\"\n",
    "musteriDogumYili = 1976\n",
    "musteriAdresi = \"Samsun İlkadım\"\n",
    "musteriYasi = 2025 - musteriDogumYili\n",
    "\n",
    "print(\"Müşterinin Yaşı:\", musteriYasi)"
   ]
  },
  {
   "cell_type": "code",
   "execution_count": 11,
   "id": "e26bf9a2",
   "metadata": {},
   "outputs": [
    {
     "name": "stdout",
     "output_type": "stream",
     "text": [
      "Total: 2895\n"
     ]
    }
   ],
   "source": [
    "order1 = 110\n",
    "order2 = 1999\n",
    "order3 = 786\n",
    "\n",
    "total = order1 + order2 + order3\n",
    "print(\"Total:\", total)"
   ]
  }
 ],
 "metadata": {
  "kernelspec": {
   "display_name": "base",
   "language": "python",
   "name": "python3"
  },
  "language_info": {
   "codemirror_mode": {
    "name": "ipython",
    "version": 3
   },
   "file_extension": ".py",
   "mimetype": "text/x-python",
   "name": "python",
   "nbconvert_exporter": "python",
   "pygments_lexer": "ipython3",
   "version": "3.13.5"
  }
 },
 "nbformat": 4,
 "nbformat_minor": 5
}
