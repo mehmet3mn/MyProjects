{
 "cells": [
  {
   "cell_type": "code",
   "execution_count": 2,
   "id": "50143e3b",
   "metadata": {},
   "outputs": [
    {
     "name": "stdout",
     "output_type": "stream",
     "text": [
      "['Hello', 'there.', 'My', 'name', 'is', 'Mehmet', 'Emin.']\n"
     ]
    }
   ],
   "source": [
    "message = \"Hello there. My name is Mehmet Emin.\".split()\n",
    "print(message)"
   ]
  },
  {
   "cell_type": "code",
   "execution_count": 6,
   "id": "3e9913c1",
   "metadata": {},
   "outputs": [
    {
     "name": "stdout",
     "output_type": "stream",
     "text": [
      "['one', 'two', 'three', 'four', 'five', 'six']\n",
      "6\n",
      "Hello\n",
      "four\n"
     ]
    }
   ],
   "source": [
    "list1 = [\"one\",\"two\",\"three\"]\n",
    "list2 = [\"four\",\"five\",\"six\"]\n",
    "numbers = list1 + list2\n",
    "print(numbers)\n",
    "print(len(numbers))\n",
    "print(message[0])\n",
    "print(numbers[3])"
   ]
  },
  {
   "cell_type": "code",
   "execution_count": null,
   "id": "cc83b346",
   "metadata": {},
   "outputs": [
    {
     "name": "stdout",
     "output_type": "stream",
     "text": [
      "['Mehmet', 36, 'Emin', 25]\n",
      "36\n"
     ]
    }
   ],
   "source": [
    "userA = [\"Mehmet\", 36]\n",
    "userB = [\"Emin\", 25]\n",
    "users= userA + userB\n",
    "\n",
    "print(users)\n",
    "print(users[1])"
   ]
  },
  {
   "cell_type": "code",
   "execution_count": 15,
   "id": "a4e5edd7",
   "metadata": {},
   "outputs": [
    {
     "name": "stdout",
     "output_type": "stream",
     "text": [
      "[['Mehmet', 36], ['Emin', 25]]\n",
      "['Emin', 25]\n",
      "25\n"
     ]
    }
   ],
   "source": [
    "userA = [\"Mehmet\", 36]\n",
    "userB = [\"Emin\", 25]\n",
    "users= [userA, userB]\n",
    "\n",
    "print(users)\n",
    "print(users[1])\n",
    "print(users[1][1])"
   ]
  },
  {
   "cell_type": "code",
   "execution_count": null,
   "id": "34f77ab7",
   "metadata": {},
   "outputs": [],
   "source": []
  }
 ],
 "metadata": {
  "kernelspec": {
   "display_name": "myvenv",
   "language": "python",
   "name": "python3"
  },
  "language_info": {
   "codemirror_mode": {
    "name": "ipython",
    "version": 3
   },
   "file_extension": ".py",
   "mimetype": "text/x-python",
   "name": "python",
   "nbconvert_exporter": "python",
   "pygments_lexer": "ipython3",
   "version": "3.13.7"
  }
 },
 "nbformat": 4,
 "nbformat_minor": 5
}
