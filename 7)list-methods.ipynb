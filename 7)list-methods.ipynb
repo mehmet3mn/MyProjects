{
 "cells": [
  {
   "cell_type": "code",
   "execution_count": null,
   "id": "71b2d62a",
   "metadata": {},
   "outputs": [
    {
     "name": "stdout",
     "output_type": "stream",
     "text": [
      "[16, 10, 10, 9, 5, 4, 1]\n",
      "['a', 'a', 'b', 'g', 's', 's', 'y']\n",
      "[10, 9, 4, 16, 5, 10, 1]\n",
      "7\n",
      "7\n",
      "2\n",
      "[]\n"
     ]
    }
   ],
   "source": [
    "numbers = [1, 10, 5, 16, 4, 9, 10]\n",
    "letters = [\"a\",\"g\",\"s\",\"b\",\"y\",\"a\",\"s\"]\n",
    "\n",
    "#val = min(numbers)\n",
    "#val = max(numbers)\n",
    "#val = min(letters)\n",
    "#val = max(letters)\n",
    "\n",
    "#val = numbers[3:6]\n",
    "#val = numbers[::-1]\n",
    "\n",
    "#numbers[4] = 40\n",
    "#numbers.append(49)   # ekledik\n",
    "#numbers.append(76)\n",
    "#numbers.insert(3, 70) # 4. elemanı 70 olarak değiştirdik\n",
    "\n",
    "#numbers.pop(0)    #istenilen sıradaki elemanı siler\n",
    "#numbers.remove(10)      #istenilen elemanı siler\n",
    "\n",
    "numbers.sort()    #kucukten büyüge sıraladı\n",
    "letters.sort()    #alfabetik sıra\n",
    "numbers.reverse()   #tamtersi\n",
    "\n",
    "print(numbers)\n",
    "print(letters)\n",
    "print(val)\n",
    "\n",
    "print(len(numbers))       #kaç tane eleman var\n",
    "print(len(letters))\n",
    "print(numbers.count(10))   #istenilen şeyin kaç tane olduğu\n",
    "\n",
    "numbers.clear()      #temizler\n",
    "print(numbers)\n"
   ]
  },
  {
   "cell_type": "code",
   "execution_count": null,
   "id": "addc7908",
   "metadata": {},
   "outputs": [],
   "source": [
    "## Daha fazla liste methodu için\n",
    "#https://www.w3schools.com/python/python_ref_list.asp"
   ]
  }
 ],
 "metadata": {
  "kernelspec": {
   "display_name": "myvenv",
   "language": "python",
   "name": "python3"
  },
  "language_info": {
   "codemirror_mode": {
    "name": "ipython",
    "version": 3
   },
   "file_extension": ".py",
   "mimetype": "text/x-python",
   "name": "python",
   "nbconvert_exporter": "python",
   "pygments_lexer": "ipython3",
   "version": "3.13.7"
  }
 },
 "nbformat": 4,
 "nbformat_minor": 5
}
