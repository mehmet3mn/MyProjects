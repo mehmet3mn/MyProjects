{
 "cells": [
  {
   "cell_type": "code",
   "execution_count": null,
   "id": "84027e7a",
   "metadata": {},
   "outputs": [
    {
     "name": "stdout",
     "output_type": "stream",
     "text": [
      "50\n",
      "60\n",
      "70\n",
      "80\n",
      "90\n",
      "[50, 60, 70, 80, 90]\n"
     ]
    }
   ],
   "source": [
    "#range()\n",
    "\n",
    "for item in range(50,100,10):\n",
    "    print(item)\n",
    "\n",
    "print(list(range(50,100,10)))"
   ]
  },
  {
   "cell_type": "code",
   "execution_count": 8,
   "id": "3964d279",
   "metadata": {},
   "outputs": [
    {
     "name": "stdout",
     "output_type": "stream",
     "text": [
      "index: 0 letter: H\n",
      "index: 1 letter: e\n",
      "index: 2 letter: l\n",
      "index: 3 letter: l\n",
      "index: 4 letter: o\n",
      "index: 5 letter:  \n",
      "index: 6 letter: t\n",
      "index: 7 letter: h\n",
      "index: 8 letter: e\n",
      "index: 9 letter: r\n",
      "index: 10 letter: e\n"
     ]
    }
   ],
   "source": [
    "#enumerate\n",
    "\n",
    "greeting = \"Hello there\"\n",
    "index = 0\n",
    "\n",
    "for index,letter in enumerate(greeting):\n",
    "    print(f\"index: {index} letter: {letter}\")\n",
    "    index = index + 1"
   ]
  },
  {
   "cell_type": "code",
   "execution_count": 14,
   "id": "04fee91b",
   "metadata": {},
   "outputs": [
    {
     "name": "stdout",
     "output_type": "stream",
     "text": [
      "[(1, 'a', 100), (2, 'b', 200), (3, 'c', 300), (4, 'd', 400), (5, 'e', 500)]\n",
      "(1, 'a', 100)\n",
      "(2, 'b', 200)\n",
      "(3, 'c', 300)\n",
      "(4, 'd', 400)\n",
      "(5, 'e', 500)\n",
      "1 a 100\n",
      "2 b 200\n",
      "3 c 300\n",
      "4 d 400\n",
      "5 e 500\n"
     ]
    }
   ],
   "source": [
    "#zip\n",
    "\n",
    "list1 = [1,2,3,4,5]\n",
    "list2 = [\"a\",\"b\",\"c\",\"d\",\"e\"]\n",
    "list3 = [100,200,300,400,500]\n",
    "\n",
    "print(list(zip(list1,list2,list3)))\n",
    "\n",
    "for item in zip(list1,list2,list3):\n",
    "    print(item)\n",
    "\n",
    "for a,b,c in zip(list1,list2,list3):\n",
    "    print(a,b,c)"
   ]
  },
  {
   "cell_type": "code",
   "execution_count": null,
   "id": "7ba388b2",
   "metadata": {},
   "outputs": [],
   "source": []
  }
 ],
 "metadata": {
  "kernelspec": {
   "display_name": "myvenv",
   "language": "python",
   "name": "python3"
  },
  "language_info": {
   "codemirror_mode": {
    "name": "ipython",
    "version": 3
   },
   "file_extension": ".py",
   "mimetype": "text/x-python",
   "name": "python",
   "nbconvert_exporter": "python",
   "pygments_lexer": "ipython3",
   "version": "3.13.7"
  }
 },
 "nbformat": 4,
 "nbformat_minor": 5
}
