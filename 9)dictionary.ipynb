{
 "cells": [
  {
   "cell_type": "code",
   "execution_count": null,
   "id": "f5ae4ca9",
   "metadata": {},
   "outputs": [
    {
     "name": "stdout",
     "output_type": "stream",
     "text": [
      "34\n"
     ]
    }
   ],
   "source": [
    "##fonksiyonlu bir şekilde\n",
    "\n",
    "\n",
    "sehirler = [\"samsun\",\"istanbul\"]\n",
    "plakalar = [55, 34]\n",
    "\n",
    "print(plakalar[sehirler.index(\"istanbul\")])"
   ]
  },
  {
   "cell_type": "code",
   "execution_count": 6,
   "id": "6c1e27ee",
   "metadata": {},
   "outputs": [
    {
     "name": "stdout",
     "output_type": "stream",
     "text": [
      "samsun: 55\n",
      "istanbul: 34\n",
      "{'samsun': 55, 'istanbul': 34, 'ankara': 6, 'kocaeli': 'new value'}\n"
     ]
    }
   ],
   "source": [
    "##sözluklerde\n",
    "plakalar = {\"samsun\":55,\"istanbul\":34}\n",
    "print(\"samsun:\",plakalar[\"samsun\"])\n",
    "print(\"istanbul:\",plakalar[\"istanbul\"])\n",
    "\n",
    "plakalar[\"ankara\"] = 6\n",
    "plakalar[\"kocaeli\"] = \"new value\"\n",
    "print(plakalar)\n"
   ]
  },
  {
   "cell_type": "code",
   "execution_count": 11,
   "id": "b4993b14",
   "metadata": {},
   "outputs": [
    {
     "name": "stdout",
     "output_type": "stream",
     "text": [
      "{'mehmet emin': {'age': 19, 'email': 'mehmet@gmail.com', 'address': 'samsun', 'phone': '4875387564'}, 'melih bahadır': {'age': 14, 'email': 'melih@gmail.com', 'address': 'samsun', 'phone': '48654423464'}}\n",
      "{'age': 19, 'email': 'mehmet@gmail.com', 'address': 'samsun', 'phone': '4875387564'}\n",
      "{'age': 14, 'email': 'melih@gmail.com', 'address': 'samsun', 'phone': '48654423464'}\n",
      "19\n"
     ]
    }
   ],
   "source": [
    "users = {\"mehmet emin\":{\n",
    "        \"age\": 19,\n",
    "        \"email\":\"mehmet@gmail.com\",\n",
    "        \"address\":\"samsun\",\n",
    "        \"phone\":\"4875387564\"\n",
    "},\n",
    "        \"melih bahadır\":{\n",
    "        \"age\": 14,\n",
    "        \"email\":\"melih@gmail.com\",\n",
    "        \"address\":\"samsun\",\n",
    "        \"phone\":\"48654423464\"\n",
    "        }}\n",
    "\n",
    "print(users)\n",
    "print(users[\"mehmet emin\"])\n",
    "print(users[\"melih bahadır\"])\n",
    "print(users[\"mehmet emin\"][\"age\"])"
   ]
  },
  {
   "cell_type": "code",
   "execution_count": null,
   "id": "6e2da4c2",
   "metadata": {},
   "outputs": [],
   "source": []
  }
 ],
 "metadata": {
  "kernelspec": {
   "display_name": "myvenv",
   "language": "python",
   "name": "python3"
  },
  "language_info": {
   "codemirror_mode": {
    "name": "ipython",
    "version": 3
   },
   "file_extension": ".py",
   "mimetype": "text/x-python",
   "name": "python",
   "nbconvert_exporter": "python",
   "pygments_lexer": "ipython3",
   "version": "3.13.7"
  }
 },
 "nbformat": 4,
 "nbformat_minor": 5
}
