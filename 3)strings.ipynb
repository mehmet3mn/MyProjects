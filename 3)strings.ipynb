{
 "cells": [
  {
   "cell_type": "code",
   "execution_count": null,
   "id": "7399a4fe",
   "metadata": {},
   "outputs": [
    {
     "name": "stdout",
     "output_type": "stream",
     "text": [
      "My name is Mehmet Emin Yıldız and I am 19 years old.\n",
      "My name is Mehmet Emin Yıldız, \n",
      "I am 19 years old.\n"
     ]
    }
   ],
   "source": [
    "name = \"Mehmet Emin\"\n",
    "surname = \"Yıldız\"\n",
    "age= 19\n",
    "\n",
    "print(\"My name is \"+ name + \" \" + surname + \" \"+ \"and I am \"+ str(age)+ \" \" + \"years old.\")\n",
    "print(\"My name is \"+ name + \" \" + surname + \", \\nI am \"+ str(age)+ \" \" + \"years old.\")\n"
   ]
  },
  {
   "cell_type": "code",
   "execution_count": 24,
   "id": "8d4ace9a",
   "metadata": {},
   "outputs": [
    {
     "name": "stdout",
     "output_type": "stream",
     "text": [
      "My name is Mehmet Emin Yıldız, \n",
      "I am 19 years old.\n",
      "M\n",
      "n\n",
      "50\n",
      ".\n",
      " na\n",
      "name is Mehmet Emin Yıldız, \n",
      "I am 19 years old.\n",
      "My name is Mehm\n",
      "nm sMhe mnYlı,\n",
      " m1 \n"
     ]
    }
   ],
   "source": [
    "greeting = \"My name is \"+ name + \" \" + surname + \", \\nI am \"+ str(age)+ \" \" + \"years old.\"\n",
    "length = len(greeting)\n",
    "\n",
    "print(greeting)\n",
    "print(greeting[0])\n",
    "print(greeting[3])\n",
    "print(len(greeting))\n",
    "print(greeting[length-1])\n",
    "print(greeting[2:5])\n",
    "print(greeting[3:])\n",
    "print(greeting[:15])\n",
    "print(greeting[3:40:2])\n"
   ]
  }
 ],
 "metadata": {
  "kernelspec": {
   "display_name": "base",
   "language": "python",
   "name": "python3"
  },
  "language_info": {
   "codemirror_mode": {
    "name": "ipython",
    "version": 3
   },
   "file_extension": ".py",
   "mimetype": "text/x-python",
   "name": "python",
   "nbconvert_exporter": "python",
   "pygments_lexer": "ipython3",
   "version": "3.13.5"
  }
 },
 "nbformat": 4,
 "nbformat_minor": 5
}
