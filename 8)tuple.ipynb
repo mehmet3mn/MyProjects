{
 "cells": [
  {
   "cell_type": "code",
   "execution_count": 14,
   "id": "12b4c4b5",
   "metadata": {},
   "outputs": [
    {
     "name": "stdout",
     "output_type": "stream",
     "text": [
      "[1, 2, 3]\n"
     ]
    }
   ],
   "source": [
    "list = [1, 2, 3]\n",
    "tuple = (1, \"iki\", 3)\n",
    "\n",
    "# print(type(list))\n",
    "# print(type(tuple))\n",
    "\n",
    "# print(list[2])\n",
    "# print(tuple[2])\n",
    "\n",
    "# print(len(list))\n",
    "# print(len(list))\n",
    "\n",
    "# list = [\"ali\",\"ayşe\"]\n",
    "# tuple = (\"veli\",\"ahmet\")\n",
    "\n",
    "# list[0] = \"mehmet\"\n",
    "# tuple[0] = \"mehmet\"     #TypeError: 'tuple' object does not support item assignment\n",
    "\n",
    "print(list)"
   ]
  },
  {
   "cell_type": "code",
   "execution_count": null,
   "id": "d35d8f26",
   "metadata": {},
   "outputs": [],
   "source": []
  }
 ],
 "metadata": {
  "kernelspec": {
   "display_name": "myvenv",
   "language": "python",
   "name": "python3"
  },
  "language_info": {
   "codemirror_mode": {
    "name": "ipython",
    "version": 3
   },
   "file_extension": ".py",
   "mimetype": "text/x-python",
   "name": "python",
   "nbconvert_exporter": "python",
   "pygments_lexer": "ipython3",
   "version": "3.13.7"
  }
 },
 "nbformat": 4,
 "nbformat_minor": 5
}
