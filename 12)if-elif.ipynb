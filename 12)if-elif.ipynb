{
 "cells": [
  {
   "cell_type": "code",
   "execution_count": 2,
   "id": "42fdc43d",
   "metadata": {},
   "outputs": [
    {
     "name": "stdout",
     "output_type": "stream",
     "text": [
      "y x ten büyük\n"
     ]
    }
   ],
   "source": [
    "x = float(input(\"x: \"))\n",
    "y = float(input(\"y: \"))\n",
    "if x > y:\n",
    "    print(\"x y den büyük\")\n",
    "\n",
    "elif x == y:\n",
    "    print(\"x y eşit\")\n",
    "\n",
    "else:\n",
    "    print(\"y x ten büyük\")    "
   ]
  },
  {
   "cell_type": "code",
   "execution_count": 3,
   "id": "f53602c9",
   "metadata": {},
   "outputs": [
    {
     "name": "stdout",
     "output_type": "stream",
     "text": [
      "sayı negatif\n"
     ]
    }
   ],
   "source": [
    "num = int(input(\"sayı:\"))\n",
    "\n",
    "if num > 0:\n",
    "    print(\"sayı pozitif\")\n",
    "elif num == 0:\n",
    "    print(\"sayı 0 a eşit\")\n",
    "else: \n",
    "    print(\"sayı negatif\")    "
   ]
  },
  {
   "cell_type": "code",
   "execution_count": null,
   "id": "0b447e59",
   "metadata": {},
   "outputs": [],
   "source": []
  }
 ],
 "metadata": {
  "kernelspec": {
   "display_name": "myvenv",
   "language": "python",
   "name": "python3"
  },
  "language_info": {
   "codemirror_mode": {
    "name": "ipython",
    "version": 3
   },
   "file_extension": ".py",
   "mimetype": "text/x-python",
   "name": "python",
   "nbconvert_exporter": "python",
   "pygments_lexer": "ipython3",
   "version": "3.13.7"
  }
 },
 "nbformat": 4,
 "nbformat_minor": 5
}
