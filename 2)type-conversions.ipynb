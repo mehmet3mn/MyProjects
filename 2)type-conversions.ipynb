{
 "cells": [
  {
   "cell_type": "code",
   "execution_count": 8,
   "id": "388d4d99",
   "metadata": {},
   "outputs": [
    {
     "name": "stdout",
     "output_type": "stream",
     "text": [
      "<class 'int'>\n",
      "<class 'int'>\n",
      "30\n"
     ]
    }
   ],
   "source": [
    "x = int(input(\"1.sayı: \"))\n",
    "y = int(input(\"2.sayı: \"))\n",
    "\n",
    "print(type(x))\n",
    "print(type(y))\n",
    "\n",
    "toplam = x + y\n",
    "print(toplam)"
   ]
  },
  {
   "cell_type": "code",
   "execution_count": 9,
   "id": "f38deaac",
   "metadata": {},
   "outputs": [
    {
     "name": "stdout",
     "output_type": "stream",
     "text": [
      "<class 'str'>\n",
      "<class 'str'>\n",
      "30\n"
     ]
    }
   ],
   "source": [
    "x = input(\"1.sayı: \")\n",
    "y = input(\"2.sayı: \")\n",
    "\n",
    "print(type(x))\n",
    "print(type(y))\n",
    "\n",
    "toplam = int(x) + int(y)\n",
    "print(toplam)"
   ]
  },
  {
   "cell_type": "code",
   "execution_count": 17,
   "id": "e9339c7c",
   "metadata": {},
   "outputs": [
    {
     "name": "stdout",
     "output_type": "stream",
     "text": [
      "<class 'int'>\n",
      "<class 'float'>\n",
      "<class 'str'>\n",
      "<class 'bool'>\n",
      "7.5\n",
      "<class 'float'>\n"
     ]
    }
   ],
   "source": [
    "x = 5\n",
    "y = 2.5\n",
    "name = \"Çınar\"\n",
    "isOnline = True\n",
    "print(type(x))\n",
    "print(type(y))\n",
    "print(type(name))\n",
    "print(type(isOnline))\n",
    "\n",
    "result = x + y\n",
    "print(result)\n",
    "print(type(result))"
   ]
  },
  {
   "cell_type": "code",
   "execution_count": 16,
   "id": "5293a6fa",
   "metadata": {},
   "outputs": [
    {
     "name": "stdout",
     "output_type": "stream",
     "text": [
      "5.0\n",
      "<class 'float'>\n",
      "2\n",
      "<class 'int'>\n",
      "7.0\n",
      "<class 'float'>\n"
     ]
    }
   ],
   "source": [
    "## Type Conversion\n",
    "\n",
    "# int to float\n",
    "\n",
    "x = float(x)\n",
    "print(x)\n",
    "print(type(x))\n",
    "\n",
    "y = int(y)\n",
    "print(y)\n",
    "print(type(y))\n",
    "\n",
    "result = x + y\n",
    "print(result)\n",
    "print(type(result))"
   ]
  },
  {
   "cell_type": "code",
   "execution_count": 29,
   "id": "1fc6a7c1",
   "metadata": {},
   "outputs": [
    {
     "name": "stdout",
     "output_type": "stream",
     "text": [
      "0\n",
      "<class 'str'>\n"
     ]
    }
   ],
   "source": [
    "#bool to str\n",
    "\n",
    "isOnline = str(isOnline)\n",
    "print(isOnline)\n",
    "print(type(isOnline))"
   ]
  },
  {
   "cell_type": "code",
   "execution_count": 25,
   "id": "41d9b833",
   "metadata": {},
   "outputs": [
    {
     "name": "stdout",
     "output_type": "stream",
     "text": [
      "0\n",
      "<class 'int'>\n"
     ]
    }
   ],
   "source": [
    "#bool to int\n",
    "\n",
    "isOnline = False\n",
    "isOnline = int(isOnline)\n",
    "print(isOnline)\n",
    "print(type(isOnline))"
   ]
  },
  {
   "cell_type": "code",
   "execution_count": 3,
   "id": "59e4e0f6",
   "metadata": {},
   "outputs": [
    {
     "name": "stdout",
     "output_type": "stream",
     "text": [
      "Dairenin Alanı:  78.5\n",
      "Dairenin Çevresi:  31.400000000000002\n"
     ]
    }
   ],
   "source": [
    "## Daire alanı hesaplama\n",
    "\n",
    "pi = 3.14\n",
    "\n",
    "yaricap = float(input(\"Yarıçapı giriniz: \"))\n",
    "alan = pi * (yaricap ** 2)\n",
    "cevre = 2 * pi * yaricap\n",
    "\n",
    "print(\"Dairenin Alanı: \", alan)\n",
    "print(\"Dairenin Çevresi: \", cevre)"
   ]
  },
  {
   "cell_type": "code",
   "execution_count": null,
   "id": "7c288ab9",
   "metadata": {},
   "outputs": [],
   "source": []
  }
 ],
 "metadata": {
  "kernelspec": {
   "display_name": "base",
   "language": "python",
   "name": "python3"
  },
  "language_info": {
   "codemirror_mode": {
    "name": "ipython",
    "version": 3
   },
   "file_extension": ".py",
   "mimetype": "text/x-python",
   "name": "python",
   "nbconvert_exporter": "python",
   "pygments_lexer": "ipython3",
   "version": "3.13.5"
  }
 },
 "nbformat": 4,
 "nbformat_minor": 5
}
