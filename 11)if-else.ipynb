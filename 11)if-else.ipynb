{
 "cells": [
  {
   "cell_type": "code",
   "execution_count": 2,
   "id": "aae23674",
   "metadata": {},
   "outputs": [
    {
     "name": "stdout",
     "output_type": "stream",
     "text": [
      "Hoş geldiniz\n",
      "doğru\n"
     ]
    }
   ],
   "source": [
    "isLoggedin = True\n",
    "\n",
    "if isLoggedin:\n",
    "    print(\"Hoş geldiniz\")\n",
    "\n",
    "if 3>2:\n",
    "    print(\"doğru\")"
   ]
  },
  {
   "cell_type": "code",
   "execution_count": null,
   "id": "166d856c",
   "metadata": {},
   "outputs": [
    {
     "name": "stdout",
     "output_type": "stream",
     "text": [
      "Hoşgeldiniz\n"
     ]
    }
   ],
   "source": [
    "username = \"mehmet3mn\"\n",
    "password = \"1234\"\n",
    "\n",
    "\n",
    "if (username == \"mehmet3mn\"):\n",
    "    \n",
    "    if (password == \"1234\"):\n",
    "        print(\"Hoşgeldiniz\")\n",
    "    else:\n",
    "        print(\"parola yanlış\")\n",
    "\n",
    "else:\n",
    "    print(\"username yanlış\")"
   ]
  },
  {
   "cell_type": "code",
   "execution_count": null,
   "id": "23b7c228",
   "metadata": {},
   "outputs": [],
   "source": []
  }
 ],
 "metadata": {
  "kernelspec": {
   "display_name": "myvenv",
   "language": "python",
   "name": "python3"
  },
  "language_info": {
   "codemirror_mode": {
    "name": "ipython",
    "version": 3
   },
   "file_extension": ".py",
   "mimetype": "text/x-python",
   "name": "python",
   "nbconvert_exporter": "python",
   "pygments_lexer": "ipython3",
   "version": "3.13.7"
  }
 },
 "nbformat": 4,
 "nbformat_minor": 5
}
