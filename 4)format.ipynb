{
 "cells": [
  {
   "cell_type": "code",
   "execution_count": 5,
   "id": "1958896d",
   "metadata": {},
   "outputs": [
    {
     "name": "stdout",
     "output_type": "stream",
     "text": [
      "My name is Mehmet Emin Yıldız\n",
      "My name is Yıldız Mehmet Emin\n",
      "My name is Mehmet Emin Yıldız\n",
      "My name is Mehmet Emin Yıldız and I am 19 years old.\n"
     ]
    }
   ],
   "source": [
    "name = \"Mehmet Emin\"\n",
    "surname = \"Yıldız\"\n",
    "\n",
    "print(\"My name is {} {}\".format(name, surname))\n",
    "print(\"My name is {1} {0}\".format(name, surname))\n",
    "print(\"My name is {x} {y}\".format(x=name, y=surname))\n",
    "print(\"My name is {} {} and I am {} years old.\".format(name, surname, 19))"
   ]
  },
  {
   "cell_type": "code",
   "execution_count": 7,
   "id": "e8d036d3",
   "metadata": {},
   "outputs": [
    {
     "name": "stdout",
     "output_type": "stream",
     "text": [
      "The result is 0.2857142857142857\n",
      "The result is 0.286\n"
     ]
    }
   ],
   "source": [
    "result = 200 / 700\n",
    "print(\"The result is {}\".format(result))\n",
    "print(\"The result is {r:1.3}\".format(r=result))"
   ]
  },
  {
   "cell_type": "code",
   "execution_count": 8,
   "id": "84eb1fc6",
   "metadata": {},
   "outputs": [
    {
     "name": "stdout",
     "output_type": "stream",
     "text": [
      "My name is Mehmet Emin Yıldız and I am 19 years old.\n"
     ]
    }
   ],
   "source": [
    "age = 19\n",
    "print(f\"My name is {name} {surname} and I am {age} years old.\")"
   ]
  }
 ],
 "metadata": {
  "kernelspec": {
   "display_name": "base",
   "language": "python",
   "name": "python3"
  },
  "language_info": {
   "codemirror_mode": {
    "name": "ipython",
    "version": 3
   },
   "file_extension": ".py",
   "mimetype": "text/x-python",
   "name": "python",
   "nbconvert_exporter": "python",
   "pygments_lexer": "ipython3",
   "version": "3.13.5"
  }
 },
 "nbformat": 4,
 "nbformat_minor": 5
}
