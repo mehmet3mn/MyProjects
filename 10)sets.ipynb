{
 "cells": [
  {
   "cell_type": "code",
   "execution_count": null,
   "id": "b8be89e1",
   "metadata": {},
   "outputs": [
    {
     "name": "stdout",
     "output_type": "stream",
     "text": [
      "orange\n",
      "apple\n",
      "banana\n",
      "{'grape', 'banana', 'cherry', 'orange'}\n",
      "{'banana', 'cherry', 'orange'}\n"
     ]
    }
   ],
   "source": [
    "fruits = {\"orange\", \"apple\",\"banana\"}\n",
    "\n",
    "#print(fruits[0])     #TypeError: 'set' object is not subscriptable\n",
    "\n",
    "for x in fruits:\n",
    "    print(x)\n",
    "\n",
    "\n",
    "fruits.add(\"cherry\")\n",
    "fruits.update([\"mango\",\"grape\",\"apple\"])\n",
    "\n",
    "fruits.discard(\"apple\")\n",
    "fruits.remove(\"mango\")\n",
    "\n",
    "print(fruits)\n",
    "\n",
    "fruits.pop()\n",
    "\n",
    "print(fruits)\n"
   ]
  }
 ],
 "metadata": {
  "kernelspec": {
   "display_name": "myvenv",
   "language": "python",
   "name": "python3"
  },
  "language_info": {
   "codemirror_mode": {
    "name": "ipython",
    "version": 3
   },
   "file_extension": ".py",
   "mimetype": "text/x-python",
   "name": "python",
   "nbconvert_exporter": "python",
   "pygments_lexer": "ipython3",
   "version": "3.13.7"
  }
 },
 "nbformat": 4,
 "nbformat_minor": 5
}
