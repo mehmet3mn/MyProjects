{
 "cells": [
  {
   "cell_type": "code",
   "execution_count": null,
   "id": "db459d88",
   "metadata": {},
   "outputs": [
    {
     "name": "stdout",
     "output_type": "stream",
     "text": [
      "1\n",
      "2\n",
      "3\n",
      "4\n",
      "10\n"
     ]
    }
   ],
   "source": [
    "numbers = [1,2,3,4,10]\n",
    "\n",
    "print(numbers[0])\n",
    "print(numbers[1])\n",
    "print(numbers[2])\n",
    "print(numbers[3])\n",
    "print(numbers[4])\n",
    "\n",
    "#teker teker yazmak istediğimizde bu şekilde uzun sürecek"
   ]
  },
  {
   "cell_type": "code",
   "execution_count": null,
   "id": "e90c8c6f",
   "metadata": {},
   "outputs": [
    {
     "name": "stdout",
     "output_type": "stream",
     "text": [
      "1\n",
      "2\n",
      "3\n",
      "4\n",
      "30\n",
      "hello\n",
      "hello\n",
      "hello\n",
      "hello\n",
      "hello\n"
     ]
    }
   ],
   "source": [
    "numbers2 = [1,2,3,4,30]\n",
    "\n",
    "for num in numbers2:\n",
    "    print(num)\n",
    "\n",
    "   \n",
    "for num in numbers2:\n",
    "    print(\"hello\")\n",
    " "
   ]
  },
  {
   "cell_type": "code",
   "execution_count": 12,
   "id": "506e57dd",
   "metadata": {},
   "outputs": [
    {
     "name": "stdout",
     "output_type": "stream",
     "text": [
      "my name is mehmet\n",
      "my name is emin\n",
      "my name is yıldız\n"
     ]
    }
   ],
   "source": [
    "names = [\"mehmet\", \"emin\" , \"yıldız\"]\n",
    "\n",
    "for name in names:\n",
    "    print(f\"my name is {name}\")"
   ]
  },
  {
   "cell_type": "code",
   "execution_count": 13,
   "id": "30abc71e",
   "metadata": {},
   "outputs": [
    {
     "name": "stdout",
     "output_type": "stream",
     "text": [
      "M\n",
      "e\n",
      "h\n",
      "m\n",
      "e\n",
      "t\n",
      " \n",
      "E\n",
      "m\n",
      "i\n",
      "n\n"
     ]
    }
   ],
   "source": [
    "name = \"Mehmet Emin\"\n",
    "\n",
    "for n in name:\n",
    "    print(n)"
   ]
  },
  {
   "cell_type": "code",
   "execution_count": 20,
   "id": "c9f5f2e0",
   "metadata": {},
   "outputs": [
    {
     "name": "stdout",
     "output_type": "stream",
     "text": [
      "1\n",
      "2\n",
      "3\n",
      "4\n",
      "5\n",
      "(1, 2)\n",
      "(3, 4)\n",
      "(5, 6)\n",
      "2\n",
      "4\n",
      "6\n"
     ]
    }
   ],
   "source": [
    "tuple = (1,2,3,4,5)\n",
    "\n",
    "for t in tuple:\n",
    "    print(t)\n",
    "\n",
    "tuple2 = [(1,2),(3,4),(5,6)]\n",
    "\n",
    "for t in tuple2:\n",
    "    print(t)\n",
    "\n",
    "tuple2 = [(1,2),(3,4),(5,6)]\n",
    "\n",
    "for a,b in tuple2:\n",
    "    print(b)\n",
    "    "
   ]
  },
  {
   "cell_type": "code",
   "execution_count": 24,
   "id": "18bac42d",
   "metadata": {},
   "outputs": [
    {
     "name": "stdout",
     "output_type": "stream",
     "text": [
      "('k1', 1)\n",
      "('k2', 2)\n",
      "('k3', 3)\n"
     ]
    }
   ],
   "source": [
    "d = {\"k1\":1,\"k2\":2,\"k3\":3}\n",
    "\n",
    "for a in d.items():    #.items()  \n",
    "    print(a)"
   ]
  },
  {
   "cell_type": "code",
   "execution_count": null,
   "id": "8fdabc43",
   "metadata": {},
   "outputs": [],
   "source": []
  }
 ],
 "metadata": {
  "kernelspec": {
   "display_name": "myvenv",
   "language": "python",
   "name": "python3"
  },
  "language_info": {
   "codemirror_mode": {
    "name": "ipython",
    "version": 3
   },
   "file_extension": ".py",
   "mimetype": "text/x-python",
   "name": "python",
   "nbconvert_exporter": "python",
   "pygments_lexer": "ipython3",
   "version": "3.13.7"
  }
 },
 "nbformat": 4,
 "nbformat_minor": 5
}
