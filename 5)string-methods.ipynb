{
 "cells": [
  {
   "cell_type": "code",
   "execution_count": null,
   "id": "936e2a84",
   "metadata": {},
   "outputs": [
    {
     "name": "stdout",
     "output_type": "stream",
     "text": [
      "Hello there. My name is Mehmet Emin.\n",
      "                                Hello there. My name is Mehmet Emin.                                \n"
     ]
    }
   ],
   "source": [
    "message = \"Hello there. My name is Mehmet Emin.\"\n",
    "#message = message.upper()\n",
    "#message = message.lower()\n",
    "#message = message.title()\n",
    "#message = message.capitalize()\n",
    "#message = message.strip()   #Yazıyı en başa atma yöntemi.\n",
    "#message = message.split()\n",
    "#message = message.split(\".\")\n",
    "#message = \" \".join(message)\n",
    "\n",
    "print(message)\n",
    "\n",
    "#index = message.find(\"Mehmet\")\n",
    "#print(index)\n",
    "#isFound = message.startswith(\"H\")  #verilen harfle başlayıp başlamadığı\n",
    "#isFound = message.endswith(\"H\")\n",
    "#print(isFound)\n",
    "\n",
    "#message = message.replace(\"Mehmet\",\"Melih\")\n",
    "#print(message)\n",
    "\n",
    "#message = message.center(100)      #verilen sayı kadar aralığın tam ortasına yazar\n",
    "#print(message)\n"
   ]
  },
  {
   "cell_type": "code",
   "execution_count": null,
   "id": "7dfeb366",
   "metadata": {},
   "outputs": [],
   "source": [
    "## Daha fazla string methodu için\n",
    "#https://www.w3schools.com/python/python_ref_string.asp"
   ]
  }
 ],
 "metadata": {
  "kernelspec": {
   "display_name": "myvenv",
   "language": "python",
   "name": "python3"
  },
  "language_info": {
   "codemirror_mode": {
    "name": "ipython",
    "version": 3
   },
   "file_extension": ".py",
   "mimetype": "text/x-python",
   "name": "python",
   "nbconvert_exporter": "python",
   "pygments_lexer": "ipython3",
   "version": "3.13.7"
  }
 },
 "nbformat": 4,
 "nbformat_minor": 5
}
