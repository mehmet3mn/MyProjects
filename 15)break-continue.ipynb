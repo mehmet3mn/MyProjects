{
 "cells": [
  {
   "cell_type": "code",
   "execution_count": 1,
   "id": "59f58fbc",
   "metadata": {},
   "outputs": [
    {
     "name": "stdout",
     "output_type": "stream",
     "text": [
      "M\n",
      "e\n"
     ]
    }
   ],
   "source": [
    "name = \"Mehmet Emin\"\n",
    "\n",
    "for letter in name:\n",
    "    if letter == \"h\":\n",
    "        break\n",
    "    print(letter)"
   ]
  },
  {
   "cell_type": "code",
   "execution_count": 3,
   "id": "595cde34",
   "metadata": {},
   "outputs": [
    {
     "name": "stdout",
     "output_type": "stream",
     "text": [
      "M\n",
      "e\n",
      "m\n",
      "e\n",
      "t\n",
      " \n",
      "E\n",
      "m\n",
      "i\n",
      "n\n"
     ]
    }
   ],
   "source": [
    "name = \"Mehmet Emin\"\n",
    "\n",
    "for letter in name:\n",
    "    if letter == \"h\":\n",
    "        continue\n",
    "    print(letter)"
   ]
  },
  {
   "cell_type": "code",
   "execution_count": null,
   "id": "61735d08",
   "metadata": {},
   "outputs": [
    {
     "name": "stdout",
     "output_type": "stream",
     "text": [
      "0\n",
      "1\n",
      "2\n"
     ]
    }
   ],
   "source": [
    "x = 0\n",
    "\n",
    "while x < 5:\n",
    "    if x == 3:\n",
    "        break\n",
    "    print(x)\n",
    "    x = x + 1"
   ]
  },
  {
   "cell_type": "code",
   "execution_count": null,
   "id": "db7ecf65",
   "metadata": {},
   "outputs": [],
   "source": [
    "# x = 0\n",
    "\n",
    "# while x < 5:                      \n",
    "#     if x == 3:\n",
    "#         continue\n",
    "#     print(x)\n",
    "#     x = x + 1\n",
    "\n",
    "# KeyboardInterrupt                         Traceback (most recent call last)\n",
    "# Cell In[5], line 5\n",
    "#       3 while x < 5:\n",
    "#       4     if x == 3:\n",
    "# ----> 5         continue\n",
    "#       6     print(x)\n",
    "#       7     x = x + 1\n",
    "\n",
    "# KeyboardInterrupt: \n",
    "\n",
    "\n",
    "### Hatası alacağımızdan dolayı x = x + 1 ifadesini if ten önce yazmalıyız\n"
   ]
  },
  {
   "cell_type": "code",
   "execution_count": 8,
   "id": "3f8b1c89",
   "metadata": {},
   "outputs": [
    {
     "name": "stdout",
     "output_type": "stream",
     "text": [
      "1\n",
      "2\n",
      "4\n",
      "5\n"
     ]
    }
   ],
   "source": [
    " x = 0\n",
    "\n",
    " while x < 5:                      \n",
    "     x = x + 1\n",
    "     if x == 3:\n",
    "        continue\n",
    "     print(x)\n"
   ]
  },
  {
   "cell_type": "code",
   "execution_count": 14,
   "id": "781936b2",
   "metadata": {},
   "outputs": [
    {
     "name": "stdout",
     "output_type": "stream",
     "text": [
      "toplam= 2600\n"
     ]
    }
   ],
   "source": [
    "#1 den 100 e kadar tek sayıların toplamı\n",
    "\n",
    "x = 1\n",
    "result = 0\n",
    "\n",
    "while x <= 100:\n",
    "    x = x + 1\n",
    "    if x % 2 == 0:      # 0 girmemizin nedeni çift sayı geldiğinde bunu dahil etmeyecek ve sadece tek sayıları toplayacak olması\n",
    "        continue\n",
    "    \n",
    "    result = result + x\n",
    "\n",
    "print(f\"toplam= {result}\")"
   ]
  },
  {
   "cell_type": "code",
   "execution_count": null,
   "id": "99d7323b",
   "metadata": {},
   "outputs": [],
   "source": []
  }
 ],
 "metadata": {
  "kernelspec": {
   "display_name": "myvenv",
   "language": "python",
   "name": "python3"
  },
  "language_info": {
   "codemirror_mode": {
    "name": "ipython",
    "version": 3
   },
   "file_extension": ".py",
   "mimetype": "text/x-python",
   "name": "python",
   "nbconvert_exporter": "python",
   "pygments_lexer": "ipython3",
   "version": "3.13.7"
  }
 },
 "nbformat": 4,
 "nbformat_minor": 5
}
